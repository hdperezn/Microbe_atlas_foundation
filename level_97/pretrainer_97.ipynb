{
 "cells": [
  {
   "cell_type": "markdown",
   "metadata": {},
   "source": [
    "# setup"
   ]
  },
  {
   "cell_type": "code",
   "execution_count": 1,
   "metadata": {},
   "outputs": [],
   "source": [
    "import os\n",
    "import sys\n",
    "import json\n",
    "\n",
    "# Add the parent directory of level_97 (i.e., MicrobeAtlas) to sys.path\n",
    "project_root = os.path.abspath(os.path.join(os.getcwd(), \"../MetaFormer\"))\n",
    "sys.path.append(project_root)"
   ]
  },
  {
   "cell_type": "code",
   "execution_count": 2,
   "metadata": {},
   "outputs": [
    {
     "name": "stderr",
     "output_type": "stream",
     "text": [
      "/home/hernan_melmoth/anaconda3/envs/bio_ontology_env/lib/python3.9/site-packages/tqdm/auto.py:21: TqdmWarning: IProgress not found. Please update jupyter and ipywidgets. See https://ipywidgets.readthedocs.io/en/stable/user_install.html\n",
      "  from .autonotebook import tqdm as notebook_tqdm\n"
     ]
    },
    {
     "data": {
      "text/plain": [
       "device(type='cuda')"
      ]
     },
     "execution_count": 2,
     "metadata": {},
     "output_type": "execute_result"
    }
   ],
   "source": [
    "import math\n",
    "import pickle\n",
    "import numpy as np\n",
    "import pandas as pd\n",
    "import scipy.sparse as sp\n",
    "import seaborn as sns \n",
    "import matplotlib.pyplot as plt\n",
    "from torch.utils.data import DataLoader, random_split\n",
    "#from dataloaders import random_collapse_per_path, PartialMergingTaxonomyDataset\n",
    "from torch.utils.data import random_split\n",
    "\n",
    "os.environ[\"NCCL_P2P_DISABLE\"] = \"1\"\n",
    "os.environ[\"NCCL_IB_DISABLE\"] = \"1\"\n",
    "\n",
    "from datasets import Dataset as HFDataset\n",
    "from transformers import DataCollatorForLanguageModeling, BatchEncoding\n",
    "from dataloaders import dataset_to_hf_dataset, TaxonomyPreCollator, create_taxonomy_data_collator\n",
    "\n",
    "import random\n",
    "import torch\n",
    "import math\n",
    "device = torch.device(\"cuda\" if torch.cuda.is_available() else \"cpu\")\n",
    "device"
   ]
  },
  {
   "cell_type": "code",
   "execution_count": 3,
   "metadata": {},
   "outputs": [],
   "source": [
    "# import json\n",
    "\n",
    "# input_path = \"/home/hernan_melmoth/Documents/phd_work/Bio_ontology/MicrobeAtlas/level_97/otus_sequences.json\"\n",
    "# output_path = \"/home/hernan_melmoth/Documents/phd_work/Bio_ontology/MicrobeAtlas/level_97/otus_sequences.jsonl\"\n",
    "\n",
    "# with open(input_path, \"r\") as f_in:\n",
    "#     all_samples = json.load(f_in)\n",
    "\n",
    "# with open(output_path, \"w\") as f_out:\n",
    "#     for sample in all_samples:\n",
    "#         f_out.write(json.dumps(sample) + \"\\n\")\n",
    "\n",
    "# print(f\"✅ Saved as line-by-line JSONL to:\\n{output_path}\")\n"
   ]
  },
  {
   "cell_type": "code",
   "execution_count": 4,
   "metadata": {},
   "outputs": [],
   "source": [
    "from torch.utils.data import DataLoader, Dataset\n",
    "\n",
    "\n",
    "class OTUSequenceJSONLDataset(Dataset):\n",
    "    def __init__(self, jsonl_path, token_dict):\n",
    "        self.jsonl_path = jsonl_path\n",
    "        self.token_dict = token_dict\n",
    "\n",
    "        # Step 1: Index file line positions (byte offsets)\n",
    "        self.offsets = []\n",
    "        with open(jsonl_path, \"rb\") as f:\n",
    "            offset = 0\n",
    "            for line in f:\n",
    "                self.offsets.append(offset)\n",
    "                offset += len(line)\n",
    "\n",
    "        self.num_samples = len(self.offsets)\n",
    "\n",
    "    def __len__(self):\n",
    "        return self.num_samples\n",
    "\n",
    "    def __getitem__(self, idx):\n",
    "        offset = self.offsets[idx]\n",
    "        with open(self.jsonl_path, \"r\") as f:\n",
    "            f.seek(offset)\n",
    "            line = f.readline()\n",
    "            otu_sequence = json.loads(line)\n",
    "\n",
    "        # Convert OTUs to token IDs (strict lookup)\n",
    "        try:\n",
    "            tokens = [self.token_dict[otu] for otu in otu_sequence]\n",
    "        except KeyError as e:\n",
    "            raise KeyError(f\"OTU not found in token_dict: {e.args[0]} (in sample {idx})\")\n",
    "\n",
    "        return {\n",
    "            \"input_ids\": tokens,\n",
    "            \"length\": len(tokens),\n",
    "            \"sample_idx\": idx\n",
    "        }"
   ]
  },
  {
   "cell_type": "markdown",
   "metadata": {},
   "source": [
    "# laod data "
   ]
  },
  {
   "cell_type": "code",
   "execution_count": 5,
   "metadata": {},
   "outputs": [
    {
     "name": "stdout",
     "output_type": "stream",
     "text": [
      "Token IDs: tensor([17437, 67294, 28984, 85355, 14752, 29029, 40292, 52932, 16677,  3899,\n",
      "        84065, 93026,  8432, 11575, 50574, 52924])\n",
      "Length   : tensor(480)\n",
      "Sample ID: SRR9214876.SRS4890968\n"
     ]
    }
   ],
   "source": [
    "# Adjust paths\n",
    "OTU_matrix_path = \"/home/hernan_melmoth/Documents/phd_work/Bio_ontology/MicrobeAtlas/level_97/otus_sequences.jsonl\"\n",
    "OTU_mapping_path = \"/home/hernan_melmoth/Documents/phd_work/Bio_ontology/MicrobeAtlas/level_97/sample_ids.json\"\n",
    "token_dict_path = \"/home/hernan_melmoth/Documents/phd_work/Bio_ontology/MicrobeAtlas/level_97/taxonomy_token_dict.pkl\"\n",
    "\n",
    "# Load sample ID list (List[str])\n",
    "with open(OTU_mapping_path, \"r\") as f:\n",
    "    sample_ids = json.load(f)\n",
    "\n",
    "# Load token dictionary (Dict[str, int])\n",
    "with open(token_dict_path, \"rb\") as f:\n",
    "    token_dict = pickle.load(f)\n",
    "\n",
    "# # Initialize dataset and dataloader\n",
    "dataset = OTUSequenceJSONLDataset(OTU_matrix_path, token_dict)\n",
    "dataloader = DataLoader(dataset, batch_size=16, shuffle=True)\n",
    "\n",
    "# Example batch\n",
    "for batch in dataloader:\n",
    "    print(\"Token IDs:\", batch[\"input_ids\"][0])\n",
    "    print(\"Length   :\", batch[\"length\"][0])\n",
    "    print(\"Sample ID:\", sample_ids[batch[\"sample_idx\"][0]])\n",
    "    break"
   ]
  },
  {
   "cell_type": "code",
   "execution_count": 6,
   "metadata": {},
   "outputs": [],
   "source": [
    "from metrics_and_callback import LogTrainBatchMetricsCallback, compute_custom_metrics, LogValMetricsCallback"
   ]
  },
  {
   "cell_type": "code",
   "execution_count": 7,
   "metadata": {},
   "outputs": [
    {
     "name": "stdout",
     "output_type": "stream",
     "text": [
      "Total samples: 1836250\n",
      "Train samples: 1469000\n",
      "Validation samples: 367250\n",
      "Original validation size: 367250\n",
      "Small validation dataset size (for periodic eval): 1000\n",
      "Test dataset size (final evaluation): 366250\n"
     ]
    }
   ],
   "source": [
    "\n",
    "# Assume partial_dataset is your instance of PartialMergingTaxonomyDataset\n",
    "total_samples = len(dataset)\n",
    "val_size = int(0.2 * total_samples)\n",
    "train_size = total_samples - val_size\n",
    "\n",
    "\n",
    "g = torch.Generator().manual_seed(123)\n",
    "train_dataset, val_dataset = random_split(dataset, [train_size, val_size], generator=g)\n",
    "\n",
    "print(f\"Total samples: {total_samples}\")\n",
    "print(f\"Train samples: {len(train_dataset)}\")\n",
    "print(f\"Validation samples: {len(val_dataset)}\")\n",
    "\n",
    "\n",
    "original_val_size = len(val_dataset)\n",
    "small_val_size = 1000#original_val_size // 2\n",
    "test_size = original_val_size - small_val_size\n",
    "\n",
    "# Split validation dataset into small val and test datasets\n",
    "val_dataset, test_dataset = random_split(\n",
    "    val_dataset, [small_val_size, test_size], generator=torch.Generator().manual_seed(123)\n",
    ")\n",
    "\n",
    "print(f\"Original validation size: {original_val_size}\")\n",
    "print(f\"Small validation dataset size (for periodic eval): {len(val_dataset)}\")\n",
    "print(f\"Test dataset size (final evaluation): {len(test_dataset)}\")"
   ]
  },
  {
   "cell_type": "markdown",
   "metadata": {},
   "source": [
    "# training model"
   ]
  },
  {
   "cell_type": "code",
   "execution_count": 8,
   "metadata": {},
   "outputs": [
    {
     "name": "stderr",
     "output_type": "stream",
     "text": [
      "/home/hernan_melmoth/anaconda3/envs/bio_ontology_env/lib/python3.9/site-packages/torchvision/io/image.py:13: UserWarning: Failed to load image Python extension: '/home/hernan_melmoth/anaconda3/envs/bio_ontology_env/lib/python3.9/site-packages/torchvision/image.so: undefined symbol: _ZN3c1017RegisterOperatorsD1Ev'If you don't plan on using image functionality from `torchvision.io`, you can ignore this warning. Otherwise, there might be something wrong with your environment. Did you have `libjpeg` or `libpng` installed before building `torchvision` from source?\n",
      "  warn(\n"
     ]
    }
   ],
   "source": [
    "from transformers import (\n",
    "    BertConfig, \n",
    "    BertForMaskedLM, \n",
    "    TrainingArguments, \n",
    "    Trainer\n",
    ")\n",
    "from transformers import TrainerCallback, TrainerState, TrainerControl"
   ]
  },
  {
   "cell_type": "code",
   "execution_count": 9,
   "metadata": {},
   "outputs": [
    {
     "name": "stdout",
     "output_type": "stream",
     "text": [
      "98218\n"
     ]
    }
   ],
   "source": [
    "save_model_path = \"/home/hernan_melmoth/Documents/phd_work/Bio_ontology/MicrobeAtlas/level_97/OTUs_model\"\n",
    "\n",
    "vocab_size = len(token_dict)  # token_dict includes <pad>, <mask>, etc.\n",
    "print(vocab_size)\n",
    "\n",
    "\n",
    "config = BertConfig(\n",
    "    vocab_size=vocab_size,\n",
    "    hidden_size=256,        # embedding dim\n",
    "    num_hidden_layers=6,    # number of Transformer layers\n",
    "    num_attention_heads=4,\n",
    "    max_position_embeddings=480,  # or your max sequence length\n",
    "    pad_token_id=token_dict[\"<pad>\"],\n",
    ")\n",
    "model = BertForMaskedLM(config)\n",
    "model.to(device)\n",
    "\n",
    "# training_args = TrainingArguments(\n",
    "#     output_dir= save_model_path,\n",
    "#     overwrite_output_dir=True,\n",
    "#     num_train_epochs=40 ,#50,\n",
    "#     per_device_train_batch_size= 16, #int(256/4),\n",
    "#     gradient_accumulation_steps=2,\n",
    "#     learning_rate=1e-4,\n",
    "#     logging_steps=1000,\n",
    "#     fp16=True,\n",
    "#     save_strategy=\"epoch\",           # Automatically saves every epoch\n",
    "#     eval_strategy=\"steps\",\n",
    "#     eval_steps=10,                 # Evaluate every 1000 steps\n",
    "#     eval_accumulation_steps=10,\n",
    "#     logging_strategy=\"steps\",\n",
    "#     logging_dir=f\"{save_model_path}/logs\",\n",
    "# )\n",
    "\n",
    "training_args = TrainingArguments(\n",
    "    output_dir= save_model_path,\n",
    "    overwrite_output_dir=True,\n",
    "    num_train_epochs=40 ,#50,\n",
    "    per_device_train_batch_size= 16, #int(256/4),\n",
    "    gradient_accumulation_steps=4,\n",
    "    learning_rate=1e-4,\n",
    "    logging_steps=1000,\n",
    "    fp16=True,\n",
    "    save_strategy=\"epoch\",           # Automatically saves every epoch\n",
    "    eval_strategy=\"no\",\n",
    "    #eval_steps=10,                 # Evaluate every 1000 steps\n",
    "    #eval_accumulation_steps=10,\n",
    "    logging_strategy=\"steps\",\n",
    "    logging_dir=f\"{save_model_path}/logs\",\n",
    ")"
   ]
  },
  {
   "cell_type": "code",
   "execution_count": null,
   "metadata": {},
   "outputs": [
    {
     "name": "stderr",
     "output_type": "stream",
     "text": [
      "/home/hernan_melmoth/anaconda3/envs/bio_ontology_env/lib/python3.9/site-packages/torch/nn/parallel/_functions.py:70: UserWarning: Was asked to gather along dimension 0, but all input tensors were scalars; will instead unsqueeze and return a vector.\n",
      "  warnings.warn(\n"
     ]
    },
    {
     "data": {
      "text/html": [
       "\n",
       "    <div>\n",
       "      \n",
       "      <progress value='1347' max='459040' style='width:300px; height:20px; vertical-align: middle;'></progress>\n",
       "      [  1347/459040 26:47 < 151:58:20, 0.84 it/s, Epoch 0.12/40]\n",
       "    </div>\n",
       "    <table border=\"1\" class=\"dataframe\">\n",
       "  <thead>\n",
       " <tr style=\"text-align: left;\">\n",
       "      <th>Step</th>\n",
       "      <th>Training Loss</th>\n",
       "    </tr>\n",
       "  </thead>\n",
       "  <tbody>\n",
       "  </tbody>\n",
       "</table><p>"
      ],
      "text/plain": [
       "<IPython.core.display.HTML object>"
      ]
     },
     "metadata": {},
     "output_type": "display_data"
    },
    {
     "name": "stderr",
     "output_type": "stream",
     "text": [
      "                                                     \r"
     ]
    },
    {
     "name": "stdout",
     "output_type": "stream",
     "text": [
      "\n",
      " Evaluating training batch at step 1000...\n"
     ]
    }
   ],
   "source": [
    "# 3) data collator (the one you tested)\n",
    "collator = create_taxonomy_data_collator(token_dict)\n",
    "\n",
    "# 4) Build the Trainer\n",
    "trainer = Trainer(\n",
    "    model=model,\n",
    "    args=training_args,\n",
    "    train_dataset=train_dataset,\n",
    "    eval_dataset=val_dataset,\n",
    "    data_collator=collator,\n",
    "    compute_metrics=compute_custom_metrics,\n",
    ")\n",
    "eval_every_steps = 1000\n",
    "trainer.add_callback(LogValMetricsCallback(\n",
    "    eval_dataset=val_dataset,\n",
    "    collator=collator,\n",
    "    compute_metrics_fn=compute_custom_metrics,\n",
    "    batch_size=16,\n",
    "    eval_every_steps=eval_every_steps\n",
    "))\n",
    "\n",
    "trainer.add_callback(LogTrainBatchMetricsCallback(\n",
    "    compute_metrics_fn=compute_custom_metrics,\n",
    "    trainer_ref=trainer,\n",
    "    eval_every_steps=eval_every_steps\n",
    "))\n",
    "# 5) Train\n",
    "trainer.train()\n",
    "trainer.save_model(save_model_path)\n"
   ]
  },
  {
   "cell_type": "code",
   "execution_count": null,
   "metadata": {},
   "outputs": [],
   "source": []
  }
 ],
 "metadata": {
  "kernelspec": {
   "display_name": "bio_ontology_env",
   "language": "python",
   "name": "python3"
  },
  "language_info": {
   "codemirror_mode": {
    "name": "ipython",
    "version": 3
   },
   "file_extension": ".py",
   "mimetype": "text/x-python",
   "name": "python",
   "nbconvert_exporter": "python",
   "pygments_lexer": "ipython3",
   "version": "3.9.21"
  }
 },
 "nbformat": 4,
 "nbformat_minor": 2
}
